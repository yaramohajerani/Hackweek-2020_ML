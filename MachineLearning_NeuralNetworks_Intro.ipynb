{
 "cells": [
  {
   "cell_type": "markdown",
   "metadata": {},
   "source": [
    "# ICESat-2 Hackweek 2020: Machine Learning"
   ]
  },
  {
   "cell_type": "markdown",
   "metadata": {},
   "source": [
    "#### Yara Mohajerani ([ymohajer@uci.edu](mailto:ymohajer@uci.edu))"
   ]
  },
  {
   "cell_type": "markdown",
   "metadata": {},
   "source": [
    "**Note** Before going through this tutorial, make sure you have the correction environment by running\n",
    "\n",
    "`conda create --name <env> --file mlenv.lock`\n",
    "with the `mlenv.lock` file being in this repositoriy, and choose the this environment for your kernel.\n",
    "\n",
    "---\n",
    "\n",
    "In this tutorial we will explore the basics of machine learning with an emphasize on neural networks and applications in altimetry. First we will offer a brief introduction to theory and techniques in implementing neural networks, and then will focus on altimetry applications.\n",
    "\n",
    "## Motivation\n",
    "Advances in machine learning have made it a valuable tool for extracting insights from large datasets without the need for developing exact analytical algorithms. In particular, this has proven extremely useful for altimetry applications. For example, imagine you have thousands of satellite images and you want to identify paricular features automatically in the dataset. One way is to manually go through the data, which is not practical. The second way is to come up with an analytical algorithm that uses explicit engineered laws to detect the desired features. This is not very easy or robust, to say the least. But machine learning methods can learn to perform the desired task from the data in an approximate manner. Specifically, *supervised* methods use the data along with the desired outputs to accomplish the learning task. Here we will focus on supervised machine learning. An extremely useful subset of supervised machine learning fields is *neural networks*, which will be discussed in this notebook.\n",
    "\n",
    "Given the shear volume of altimetry data from ICESat-2, the is huge potential in extracting insights from the data with machine learning that were not possible before. Keep in mind that machine learning is a big field and here we focus on only a few specific approaches and a few computational tools. Specifically, we will focus on neural networks largely implemented in `keras`.\n",
    "\n",
    "---\n",
    "Introduction to neural networks\n",
    "---\n",
    "\n",
    "Neural networks use a series of nonlinear transformations with adjustable (trainable) parameters to approximate an input field into a desired output.\n",
    "\n",
    "Each 'cell' or unit of a network has an associated weight $w$ and bias $b$, and an activation function $f(z)$ for applying a nonlinear transformation such that the output is\n",
    "\n",
    "$$\n",
    "\\begin{aligned}\n",
    " f(w.x + b)\n",
    "\\end{aligned}\n",
    "$$\n",
    "\n",
    "for input $x$.\n",
    "\n",
    "Some examples of activation functions are \n",
    "Sigmoid:\n",
    "\n",
    "$$\n",
    "\\begin{aligned}\n",
    " f(z) = \\frac{1}{1+e^{-z}}\n",
    "\\end{aligned}\n",
    "$$\n",
    "\n",
    "Rectified Linear Unit (ReLU):\n",
    "\n",
    "$$\n",
    "\\begin{aligned}\n",
    " f(z) = \\max(0,z)\n",
    "\\end{aligned}\n",
    "$$\n",
    "\n",
    "And many others, which is beyond the scope of this brief tutorial. There are many excellent resources on the choice activation functions (e.g. [Neural Networks and Deep Learning by Michael Nielson](http://neuralnetworksanddeeplearning.com/chap3.html))\n",
    "\n",
    "\n",
    "A neural network contains many layers of nodes to accomplish more involved transformations. Note that each unit only has one adjustable bias $b$, but each precedening connected note has a weight $w$ associated with it. All the weighted inputs are summed such that the output is\n",
    "\n",
    "$$\n",
    "\\begin{aligned}\n",
    " f(b+\\sum_{i} w_ix_i)\n",
    "\\end{aligned}\n",
    "$$\n",
    "\n",
    "\n",
    "![Neural network generic example fromw ww.astroml.org](https://www.astroml.org/_images/fig_neural_network_1.png)\n",
    "<sub>Schematic from [AstroML](www.astroml.org)</sub>"
   ]
  },
  {
   "cell_type": "markdown",
   "metadata": {},
   "source": [
    "Packages like PyTorch and TensforFlow provide the tools to contruct neural networks in Python. However, here we focus on Keras, a higher-level package which makes it easier to contruct a network.\n",
    "\n",
    "Here as an example we will contruct a simple model for the quintessential machine learning example of identifying handwritten digits (MNIST dataset)."
   ]
  },
  {
   "cell_type": "markdown",
   "metadata": {},
   "source": [
    "#### 1) Get data and develop neural network"
   ]
  },
  {
   "cell_type": "code",
   "execution_count": 1,
   "metadata": {},
   "outputs": [
    {
     "name": "stderr",
     "output_type": "stream",
     "text": [
      "Using TensorFlow backend.\n"
     ]
    }
   ],
   "source": [
    "#--  import required packages\n",
    "import keras\n",
    "import numpy as np\n",
    "from keras.datasets import mnist\n",
    "from keras.layers import Dense, Activation\n",
    "import matplotlib.pyplot as plt"
   ]
  },
  {
   "cell_type": "code",
   "execution_count": 2,
   "metadata": {},
   "outputs": [
    {
     "name": "stdout",
     "output_type": "stream",
     "text": [
      "Downloading data from https://s3.amazonaws.com/img-datasets/mnist.npz\n",
      "11493376/11490434 [==============================] - 1s 0us/step\n"
     ]
    }
   ],
   "source": [
    "#-- Get built-in MNIST data from keras\n",
    "#-- \"Dataset of 60,000 28x28 grayscale images of the 10 digits, along with a test set of 10,000 images.\"\"\n",
    "#-- https://keras.io/datasets/#mnist-database-of-handwritten-digits\n",
    "(x_train, y_train), (x_test, y_test) = mnist.load_data()"
   ]
  },
  {
   "cell_type": "code",
   "execution_count": 3,
   "metadata": {},
   "outputs": [
    {
     "data": {
      "image/png": "[encoded data removed]",
      "text/plain": [
       "<Figure size 1152x360 with 20 Axes>"
      ]
     },
     "metadata": {
      "needs_background": "light"
     },
     "output_type": "display_data"
    }
   ],
   "source": [
    "fig, ax = plt.subplots(1, 20, figsize=(16,5))\n",
    "for i in range(20):\n",
    "    ax[i].imshow(x_train[i],cmap='binary')\n",
    "    ax[i].set_title(y_train[i])\n",
    "    ax[i].axis('off')\n",
    "plt.show()"
   ]
  },
  {
   "cell_type": "code",
   "execution_count": 4,
   "metadata": {},
   "outputs": [],
   "source": [
    "#-- Turn the trainign labels (indicating which number each image is), into one-hot encoding\n",
    "#-- e.g. 3 --> [0,0,0,1,0,0,0,0,0,0]\n",
    "onehot_train = keras.utils.to_categorical(y_train, num_classes=10)"
   ]
  },
  {
   "cell_type": "code",
   "execution_count": 5,
   "metadata": {},
   "outputs": [],
   "source": [
    "#-- Make sequential model\n",
    "model = keras.Sequential()\n",
    "#-- \"Dense implements the operation: output = activation(dot(input, kernel) + bias)\"\n",
    "#-- https://keras.io/layers/core/\n",
    "#-- first hidden layer has 64 units, and input is 28*28 which is the flattened input data\n",
    "model.add(Dense(64, activation='relu', input_dim=x_train.shape[1]*x_train.shape[2]))\n",
    "model.add(Dense(32, activation='relu', input_dim=32))\n",
    "model.add(Dense(10, activation='softmax'))"
   ]
  },
  {
   "cell_type": "markdown",
   "metadata": {},
   "source": [
    "This is categorical classification with 10 classes (0-9), hence 10 units in the last layer. We compile the model with a `categorical_crossentropy` loss function used to train the model."
   ]
  },
  {
   "cell_type": "code",
   "execution_count": 6,
   "metadata": {},
   "outputs": [],
   "source": [
    "model.compile(optimizer='adam',     # optimization algorithm used (other examples include scholastic gradient descent, etc)\n",
    "              loss='categorical_crossentropy',\n",
    "              metrics=['accuracy']) # quantity to be minimized"
   ]
  },
  {
   "cell_type": "code",
   "execution_count": 7,
   "metadata": {},
   "outputs": [
    {
     "name": "stdout",
     "output_type": "stream",
     "text": [
      "Epoch 1/20\n",
      "60000/60000 [==============================] - 17s 290us/step - loss: 1.5492 - accuracy: 0.7158\n",
      "Epoch 2/20\n",
      "60000/60000 [==============================] - 17s 290us/step - loss: 0.4349 - accuracy: 0.8838 17s - loss: 0.5262 - accuracy: 0.8 -\n",
      "Epoch 3/20\n",
      "60000/60000 [==============================] - 17s 287us/step - loss: 0.2679 - accuracy: 0.9276s - loss:\n",
      "Epoch 4/20\n",
      "60000/60000 [==============================] - 17s 277us/step - loss: 0.2025 - accuracy: 0.9445\n",
      "Epoch 5/20\n",
      "60000/60000 [==============================] - 17s 280us/step - loss: 0.1761 - accuracy: 0.9520s - los -\n",
      "Epoch 6/20\n",
      "60000/60000 [==============================] - 17s 288us/step - loss: 0.1507 - accuracy: 0.9586\n",
      "Epoch 7/20\n",
      "60000/60000 [==============================] - 17s 284us/step - loss: 0.1403 - accuracy: 0.9616s - los - ETA\n",
      "Epoch 8/20\n",
      "60000/60000 [==============================] - 16s 272us/step - loss: 0.1247 - accuracy: 0.9667\n",
      "Epoch 9/20\n",
      "60000/60000 [==============================] - 17s 277us/step - loss: 0.1174 - accuracy: 0.9680\n",
      "Epoch 10/20\n",
      "60000/60000 [==============================] - 17s 280us/step - loss: 0.1045 - accuracy: 0.9718s - loss: 0.1046 - accuracy\n",
      "Epoch 11/20\n",
      "60000/60000 [==============================] - 17s 282us/step - loss: 0.0995 - accuracy: 0.9739\n",
      "Epoch 12/20\n",
      "60000/60000 [==============================] - 18s 300us/step - loss: 0.0926 - accuracy: 0.9744\n",
      "Epoch 13/20\n",
      "60000/60000 [==============================] - 17s 283us/step - loss: 0.0899 - accuracy: 0.9764s - loss: 0.0904 - accuracy:  - ETA: 0s - loss: 0.0902 \n",
      "Epoch 14/20\n",
      "60000/60000 [==============================] - 17s 279us/step - loss: 0.0839 - accuracy: 0.9769s - loss: 0.0835 \n",
      "Epoch 15/20\n",
      "60000/60000 [==============================] - 16s 269us/step - loss: 0.0825 - accuracy: 0.9777\n",
      "Epoch 16/20\n",
      "60000/60000 [==============================] - 18s 299us/step - loss: 0.0780 - accuracy: 0.9792\n",
      "Epoch 17/20\n",
      "60000/60000 [==============================] - 19s 311us/step - loss: 0.0786 - accuracy: 0.9791\n",
      "Epoch 18/20\n",
      "60000/60000 [==============================] - 17s 278us/step - loss: 0.0762 - accuracy: 0.9793s - l\n",
      "Epoch 19/20\n",
      "60000/60000 [==============================] - 16s 275us/step - loss: 0.0711 - accuracy: 0.9808\n",
      "Epoch 20/20\n",
      "60000/60000 [==============================] - 18s 297us/step - loss: 0.0657 - accuracy: 0.9822\n"
     ]
    },
    {
     "data": {
      "text/plain": [
       "<keras.callbacks.callbacks.History at 0x7fc174494f10>"
      ]
     },
     "execution_count": 7,
     "metadata": {},
     "output_type": "execute_result"
    }
   ],
   "source": [
    "#-- Train model (20 epochs, with batch sizes of 32)\n",
    "#-- batch size is number if data points used in each training iteration\n",
    "#-- epoch is total number of times the whole dataset is used.\n",
    "#-- so total number of iterations is total_size/batch_size * epochs\n",
    "model.fit(x_train.reshape(x_train.shape[0],x_train.shape[1]*x_train.shape[2]),\n",
    "          onehot_train, epochs=20, batch_size=32)"
   ]
  },
  {
   "cell_type": "markdown",
   "metadata": {},
   "source": [
    "#### 2) Evaluate model"
   ]
  },
  {
   "cell_type": "code",
   "execution_count": 8,
   "metadata": {},
   "outputs": [
    {
     "name": "stdout",
     "output_type": "stream",
     "text": [
      "10000/10000 [==============================] - 2s 171us/step - E\n"
     ]
    },
    {
     "data": {
      "text/plain": [
       "[0.1555674942055717, 0.9688000082969666]"
      ]
     },
     "execution_count": 8,
     "metadata": {},
     "output_type": "execute_result"
    }
   ],
   "source": [
    "#-- turn testing labels to one-hot encoded\n",
    "onehot_test = keras.utils.to_categorical(y_test, num_classes=10)\n",
    "#-- evaluate performance of model\n",
    "#-- Returns the loss value & metrics value, which in this case is accuracy\n",
    "model.evaluate(x=x_test.reshape(x_test.shape[0],x_test.shape[1]*x_test.shape[2]),\n",
    "               y=onehot_test, verbose=1)"
   ]
  },
  {
   "cell_type": "markdown",
   "metadata": {},
   "source": [
    "With this simple 4-layer model with get $~97\\%$ accuracy!"
   ]
  },
  {
   "cell_type": "markdown",
   "metadata": {},
   "source": [
    "---\n",
    "# Regression Exercise with Neural Networks with ATL03-like data\n",
    "---\n",
    "Before breaking into groups, we will do the set up of the problem together.\n",
    "\n",
    "The goal is to now do a regerssion problem. You will have to figure out a way to alter the architecture of the neural network to provide an output that is not a set of classifications, but a regression parameter.\n",
    "\n",
    "First we will create simulated ATL03 data by creating a noisy dataset of a series of patches with linear features and Gaussian noise."
   ]
  },
  {
   "cell_type": "code",
   "execution_count": 22,
   "metadata": {},
   "outputs": [],
   "source": [
    "#-- create 1000 line segments in tiles with width 50 and add Guassian noise\n",
    "n_tiles = 1000\n",
    "w = 40\n",
    "pts = 30 # number of poits to sample\n",
    "repeat = 3 # number of times to repeat the noise addition at each coordinate\n",
    "\n",
    "# Fixing random state for reproducibility\n",
    "np.random.seed(13)\n",
    "\n",
    "#-- training data has dimensions: # of tilesm, # of points, 2 for the x,y coords of points\n",
    "x = np.empty((n_tiles,pts*repeat,2),dtype=float)\n",
    "#-- we choose a random slope and intercept in the range -4 to 4 for both, with uniform distribution\n",
    "y = np.random.uniform(-4,4,(n_tiles,2))\n",
    "\n",
    "#-- Now populate x with noisy data\n",
    "#-- to make the data more similar to ATL03, we will have multiple y values for each x value\n",
    "for i in range(n_tiles):\n",
    "    #-- create line \n",
    "    line = y[i,0] + np.arange(w)*y[i,1] + np.random.normal(loc=0,scale=5,size=w)\n",
    "    #-- randomly select `pts` number of points\n",
    "    inds = np.random.randint(0,high=w,size=pts)\n",
    "    for r in range(repeat):\n",
    "        x[i,r*pts:(r+1)*pts,0] = inds\n",
    "        # Add Gaussian noise with standard deviation 10\n",
    "        x[i,r*pts:(r+1)*pts,1] = line[inds] + np.random.normal(loc=0,scale=10,size=pts)"
   ]
  },
  {
   "cell_type": "code",
   "execution_count": 43,
   "metadata": {},
   "outputs": [
    {
     "data": {
      "text/plain": [
       "array([], dtype=int64)"
      ]
     },
     "execution_count": 43,
     "metadata": {},
     "output_type": "execute_result"
    }
   ],
   "source": [
    "#-- Separate 10% of elements for testing\n",
    "#-- randomly extract indices for 10% of elements\n",
    "ii = np.random.randint(0,high=n_tiles,size=int(n_tiles*0.1))\n",
    "x_test = x[ii]\n",
    "y_test = y[ii]\n",
    "#-- set the rest for training by getting difference between union and intersection\n",
    "jj = np.setdiff1d(np.union1d(np.arange(n_tiles), ii), np.intersect1d(np.arange(n_tiles), ii))\n",
    "x_train = x[jj]\n",
    "y_train = y[jj]\n",
    "#-- make sure there are no overlapping elements\n",
    "np.intersect1d(ii,jj)"
   ]
  },
  {
   "cell_type": "code",
   "execution_count": 23,
   "metadata": {},
   "outputs": [
    {
     "data": {
      "image/png": "[encoded data removed]",
      "text/plain": [
       "<Figure size 1152x288 with 4 Axes>"
      ]
     },
     "metadata": {
      "needs_background": "light"
     },
     "output_type": "display_data"
    }
   ],
   "source": [
    "#-- Plot some example tiles\n",
    "fig,ax = plt.subplots(1, 4,figsize=(16,4))\n",
    "#-- loop over to plot the first 4 tiles\n",
    "for i in range(4):\n",
    "    ax[i].plot(x[i,:,0],x[i,:,1],'bo')\n",
    "    ax[i].plot(np.arange(w),y[i,0] + np.arange(w)*y[i,1],'r-')\n",
    "plt.show()"
   ]
  },
  {
   "cell_type": "markdown",
   "metadata": {},
   "source": [
    "# Breakout (15 minutes)\n",
    "Try to create a neural network that learn from the examples above and get the slope and coefficient for a given linear feature."
   ]
  },
  {
   "cell_type": "code",
   "execution_count": null,
   "metadata": {},
   "outputs": [],
   "source": []
  },
  {
   "cell_type": "markdown",
   "metadata": {},
   "source": [
    "\n",
    "\n",
    "---\n",
    "### Solution:"
   ]
  },
  {
   "cell_type": "code",
   "execution_count": 32,
   "metadata": {
    "scrolled": true
   },
   "outputs": [
    {
     "name": "stdout",
     "output_type": "stream",
     "text": [
      "Model: \"sequential_3\"\n",
      "_________________________________________________________________\n",
      "Layer (type)                 Output Shape              Param #   \n",
      "=================================================================\n",
      "dense_9 (Dense)              (None, 128)               23168     \n",
      "_________________________________________________________________\n",
      "dense_10 (Dense)             (None, 256)               33024     \n",
      "_________________________________________________________________\n",
      "dense_11 (Dense)             (None, 256)               65792     \n",
      "_________________________________________________________________\n",
      "dense_12 (Dense)             (None, 2)                 514       \n",
      "=================================================================\n",
      "Total params: 122,498\n",
      "Trainable params: 122,498\n",
      "Non-trainable params: 0\n",
      "_________________________________________________________________\n"
     ]
    }
   ],
   "source": [
    "model = keras.Sequential()\n",
    "\n",
    "model.add(Dense(128, activation='relu', input_dim=x.shape[1]*x.shape[2]))\n",
    "model.add(Dense(256, activation='relu'))\n",
    "model.add(Dense(256, activation='relu'))\n",
    "#-- for final model we use a simple linear activation, which simply returns the input unmodified\n",
    "model.add(Dense(2 ,activation='linear'))\n",
    "\n",
    "#-- we use a mean absolute error as the loss function\n",
    "model.compile(loss='mean_absolute_error', optimizer='adam', metrics=['accuracy'])\n",
    "model.summary()"
   ]
  },
  {
   "cell_type": "code",
   "execution_count": 38,
   "metadata": {},
   "outputs": [
    {
     "name": "stdout",
     "output_type": "stream",
     "text": [
      "Epoch 1/100\n",
      "904/904 [==============================] - 0s 74us/step - loss: 0.2710 - mean_absolute_error: 0.2710 - accuracy: 0.9491\n",
      "Epoch 2/100\n",
      "904/904 [==============================] - 0s 78us/step - loss: 0.2923 - mean_absolute_error: 0.2923 - accuracy: 0.9491\n",
      "Epoch 3/100\n",
      "904/904 [==============================] - 0s 63us/step - loss: 0.3310 - mean_absolute_error: 0.3310 - accuracy: 0.9436\n",
      "Epoch 4/100\n",
      "904/904 [==============================] - 0s 54us/step - loss: 0.3370 - mean_absolute_error: 0.3370 - accuracy: 0.9436\n",
      "Epoch 5/100\n",
      "904/904 [==============================] - 0s 52us/step - loss: 0.3264 - mean_absolute_error: 0.3264 - accuracy: 0.9447\n",
      "Epoch 6/100\n",
      "904/904 [==============================] - 0s 52us/step - loss: 0.3073 - mean_absolute_error: 0.3073 - accuracy: 0.9425\n",
      "Epoch 7/100\n",
      "904/904 [==============================] - 0s 52us/step - loss: 0.3251 - mean_absolute_error: 0.3251 - accuracy: 0.9558\n",
      "Epoch 8/100\n",
      "904/904 [==============================] - 0s 54us/step - loss: 0.3040 - mean_absolute_error: 0.3040 - accuracy: 0.9524\n",
      "Epoch 9/100\n",
      "904/904 [==============================] - 0s 52us/step - loss: 0.3041 - mean_absolute_error: 0.3041 - accuracy: 0.9447\n",
      "Epoch 10/100\n",
      "904/904 [==============================] - 0s 52us/step - loss: 0.2885 - mean_absolute_error: 0.2885 - accuracy: 0.9381\n",
      "Epoch 11/100\n",
      "904/904 [==============================] - 0s 52us/step - loss: 0.3007 - mean_absolute_error: 0.3007 - accuracy: 0.9436\n",
      "Epoch 12/100\n",
      "904/904 [==============================] - 0s 52us/step - loss: 0.3074 - mean_absolute_error: 0.3074 - accuracy: 0.9425\n",
      "Epoch 13/100\n",
      "904/904 [==============================] - 0s 61us/step - loss: 0.2936 - mean_absolute_error: 0.2936 - accuracy: 0.9381\n",
      "Epoch 14/100\n",
      "904/904 [==============================] - 0s 54us/step - loss: 0.2936 - mean_absolute_error: 0.2936 - accuracy: 0.9336\n",
      "Epoch 15/100\n",
      "904/904 [==============================] - 0s 56us/step - loss: 0.2976 - mean_absolute_error: 0.2976 - accuracy: 0.9558\n",
      "Epoch 16/100\n",
      "904/904 [==============================] - 0s 52us/step - loss: 0.2787 - mean_absolute_error: 0.2787 - accuracy: 0.9591\n",
      "Epoch 17/100\n",
      "904/904 [==============================] - 0s 53us/step - loss: 0.2826 - mean_absolute_error: 0.2826 - accuracy: 0.9414\n",
      "Epoch 18/100\n",
      "904/904 [==============================] - 0s 55us/step - loss: 0.2777 - mean_absolute_error: 0.2777 - accuracy: 0.9480\n",
      "Epoch 19/100\n",
      "904/904 [==============================] - 0s 53us/step - loss: 0.3098 - mean_absolute_error: 0.3098 - accuracy: 0.9591\n",
      "Epoch 20/100\n",
      "904/904 [==============================] - 0s 55us/step - loss: 0.2946 - mean_absolute_error: 0.2946 - accuracy: 0.9602\n",
      "Epoch 21/100\n",
      "904/904 [==============================] - 0s 57us/step - loss: 0.2788 - mean_absolute_error: 0.2788 - accuracy: 0.9513\n",
      "Epoch 22/100\n",
      "904/904 [==============================] - 0s 56us/step - loss: 0.2996 - mean_absolute_error: 0.2996 - accuracy: 0.9546\n",
      "Epoch 23/100\n",
      "904/904 [==============================] - 0s 57us/step - loss: 0.2893 - mean_absolute_error: 0.2893 - accuracy: 0.9524\n",
      "Epoch 24/100\n",
      "904/904 [==============================] - 0s 52us/step - loss: 0.2820 - mean_absolute_error: 0.2820 - accuracy: 0.9502\n",
      "Epoch 25/100\n",
      "904/904 [==============================] - 0s 55us/step - loss: 0.3230 - mean_absolute_error: 0.3230 - accuracy: 0.9381\n",
      "Epoch 26/100\n",
      "904/904 [==============================] - 0s 58us/step - loss: 0.3085 - mean_absolute_error: 0.3085 - accuracy: 0.9546\n",
      "Epoch 27/100\n",
      "904/904 [==============================] - 0s 56us/step - loss: 0.2960 - mean_absolute_error: 0.2960 - accuracy: 0.9491\n",
      "Epoch 28/100\n",
      "904/904 [==============================] - 0s 62us/step - loss: 0.2902 - mean_absolute_error: 0.2902 - accuracy: 0.9491\n",
      "Epoch 29/100\n",
      "904/904 [==============================] - 0s 54us/step - loss: 0.2872 - mean_absolute_error: 0.2872 - accuracy: 0.9447\n",
      "Epoch 30/100\n",
      "904/904 [==============================] - 0s 52us/step - loss: 0.3140 - mean_absolute_error: 0.3140 - accuracy: 0.9403\n",
      "Epoch 31/100\n",
      "904/904 [==============================] - 0s 51us/step - loss: 0.2733 - mean_absolute_error: 0.2733 - accuracy: 0.9513\n",
      "Epoch 32/100\n",
      "904/904 [==============================] - 0s 52us/step - loss: 0.2649 - mean_absolute_error: 0.2649 - accuracy: 0.9668\n",
      "Epoch 33/100\n",
      "904/904 [==============================] - 0s 53us/step - loss: 0.2729 - mean_absolute_error: 0.2729 - accuracy: 0.9546\n",
      "Epoch 34/100\n",
      "904/904 [==============================] - 0s 51us/step - loss: 0.2601 - mean_absolute_error: 0.2601 - accuracy: 0.9502\n",
      "Epoch 35/100\n",
      "904/904 [==============================] - 0s 51us/step - loss: 0.2564 - mean_absolute_error: 0.2564 - accuracy: 0.9524\n",
      "Epoch 36/100\n",
      "904/904 [==============================] - 0s 54us/step - loss: 0.2504 - mean_absolute_error: 0.2504 - accuracy: 0.9535\n",
      "Epoch 37/100\n",
      "904/904 [==============================] - 0s 51us/step - loss: 0.2687 - mean_absolute_error: 0.2687 - accuracy: 0.9513\n",
      "Epoch 38/100\n",
      "904/904 [==============================] - 0s 53us/step - loss: 0.2602 - mean_absolute_error: 0.2602 - accuracy: 0.9436\n",
      "Epoch 39/100\n",
      "904/904 [==============================] - 0s 53us/step - loss: 0.2500 - mean_absolute_error: 0.2500 - accuracy: 0.9624\n",
      "Epoch 40/100\n",
      "904/904 [==============================] - 0s 53us/step - loss: 0.2629 - mean_absolute_error: 0.2629 - accuracy: 0.9613\n",
      "Epoch 41/100\n",
      "904/904 [==============================] - 0s 55us/step - loss: 0.2496 - mean_absolute_error: 0.2496 - accuracy: 0.9524\n",
      "Epoch 42/100\n",
      "904/904 [==============================] - 0s 69us/step - loss: 0.2403 - mean_absolute_error: 0.2403 - accuracy: 0.9524\n",
      "Epoch 43/100\n",
      "904/904 [==============================] - 0s 59us/step - loss: 0.2574 - mean_absolute_error: 0.2574 - accuracy: 0.9524\n",
      "Epoch 44/100\n",
      "904/904 [==============================] - 0s 58us/step - loss: 0.2465 - mean_absolute_error: 0.2465 - accuracy: 0.9458\n",
      "Epoch 45/100\n",
      "904/904 [==============================] - 0s 53us/step - loss: 0.2409 - mean_absolute_error: 0.2409 - accuracy: 0.9513\n",
      "Epoch 46/100\n",
      "904/904 [==============================] - 0s 66us/step - loss: 0.2497 - mean_absolute_error: 0.2497 - accuracy: 0.9535\n",
      "Epoch 47/100\n",
      "904/904 [==============================] - 0s 69us/step - loss: 0.2589 - mean_absolute_error: 0.2589 - accuracy: 0.9480\n",
      "Epoch 48/100\n",
      "904/904 [==============================] - 0s 72us/step - loss: 0.2682 - mean_absolute_error: 0.2682 - accuracy: 0.9447\n",
      "Epoch 49/100\n",
      "904/904 [==============================] - 0s 72us/step - loss: 0.2696 - mean_absolute_error: 0.2696 - accuracy: 0.9502\n",
      "Epoch 50/100\n",
      "904/904 [==============================] - 0s 58us/step - loss: 0.2562 - mean_absolute_error: 0.2562 - accuracy: 0.9535\n",
      "Epoch 51/100\n",
      "904/904 [==============================] - 0s 53us/step - loss: 0.2379 - mean_absolute_error: 0.2379 - accuracy: 0.9591\n",
      "Epoch 52/100\n",
      "904/904 [==============================] - 0s 53us/step - loss: 0.2356 - mean_absolute_error: 0.2356 - accuracy: 0.9668\n",
      "Epoch 53/100\n",
      "904/904 [==============================] - 0s 54us/step - loss: 0.2495 - mean_absolute_error: 0.2495 - accuracy: 0.9502\n",
      "Epoch 54/100\n",
      "904/904 [==============================] - 0s 54us/step - loss: 0.2394 - mean_absolute_error: 0.2394 - accuracy: 0.9735\n",
      "Epoch 55/100\n",
      "904/904 [==============================] - 0s 58us/step - loss: 0.2426 - mean_absolute_error: 0.2426 - accuracy: 0.9535\n",
      "Epoch 56/100\n",
      "904/904 [==============================] - 0s 56us/step - loss: 0.2692 - mean_absolute_error: 0.2692 - accuracy: 0.9502\n",
      "Epoch 57/100\n",
      "904/904 [==============================] - 0s 57us/step - loss: 0.2368 - mean_absolute_error: 0.2368 - accuracy: 0.9502\n",
      "Epoch 58/100\n",
      "904/904 [==============================] - 0s 56us/step - loss: 0.2396 - mean_absolute_error: 0.2396 - accuracy: 0.9513\n",
      "Epoch 59/100\n",
      "904/904 [==============================] - 0s 52us/step - loss: 0.2525 - mean_absolute_error: 0.2525 - accuracy: 0.9480\n",
      "Epoch 60/100\n",
      "904/904 [==============================] - 0s 52us/step - loss: 0.2518 - mean_absolute_error: 0.2518 - accuracy: 0.9690\n",
      "Epoch 61/100\n",
      "904/904 [==============================] - 0s 52us/step - loss: 0.2417 - mean_absolute_error: 0.2417 - accuracy: 0.9436\n",
      "Epoch 62/100\n"
     ]
    },
    {
     "name": "stdout",
     "output_type": "stream",
     "text": [
      "904/904 [==============================] - 0s 54us/step - loss: 0.2381 - mean_absolute_error: 0.2381 - accuracy: 0.9524\n",
      "Epoch 63/100\n",
      "904/904 [==============================] - 0s 61us/step - loss: 0.2207 - mean_absolute_error: 0.2207 - accuracy: 0.9602\n",
      "Epoch 64/100\n",
      "904/904 [==============================] - 0s 91us/step - loss: 0.2284 - mean_absolute_error: 0.2284 - accuracy: 0.9679\n",
      "Epoch 65/100\n",
      "904/904 [==============================] - 0s 136us/step - loss: 0.2398 - mean_absolute_error: 0.2398 - accuracy: 0.9558\n",
      "Epoch 66/100\n",
      "904/904 [==============================] - 0s 83us/step - loss: 0.2411 - mean_absolute_error: 0.2411 - accuracy: 0.9546\n",
      "Epoch 67/100\n",
      "904/904 [==============================] - 0s 51us/step - loss: 0.2399 - mean_absolute_error: 0.2399 - accuracy: 0.9546\n",
      "Epoch 68/100\n",
      "904/904 [==============================] - 0s 47us/step - loss: 0.2467 - mean_absolute_error: 0.2467 - accuracy: 0.9602\n",
      "Epoch 69/100\n",
      "904/904 [==============================] - 0s 44us/step - loss: 0.2373 - mean_absolute_error: 0.2373 - accuracy: 0.9602\n",
      "Epoch 70/100\n",
      "904/904 [==============================] - 0s 44us/step - loss: 0.2440 - mean_absolute_error: 0.2440 - accuracy: 0.9558\n",
      "Epoch 71/100\n",
      "904/904 [==============================] - 0s 44us/step - loss: 0.2409 - mean_absolute_error: 0.2409 - accuracy: 0.9646\n",
      "Epoch 72/100\n",
      "904/904 [==============================] - 0s 44us/step - loss: 0.2340 - mean_absolute_error: 0.2340 - accuracy: 0.9613\n",
      "Epoch 73/100\n",
      "904/904 [==============================] - 0s 45us/step - loss: 0.2383 - mean_absolute_error: 0.2383 - accuracy: 0.9480\n",
      "Epoch 74/100\n",
      "904/904 [==============================] - 0s 47us/step - loss: 0.2531 - mean_absolute_error: 0.2531 - accuracy: 0.9524\n",
      "Epoch 75/100\n",
      "904/904 [==============================] - 0s 47us/step - loss: 0.2381 - mean_absolute_error: 0.2381 - accuracy: 0.9635\n",
      "Epoch 76/100\n",
      "904/904 [==============================] - 0s 59us/step - loss: 0.2433 - mean_absolute_error: 0.2433 - accuracy: 0.9580\n",
      "Epoch 77/100\n",
      "904/904 [==============================] - 0s 85us/step - loss: 0.2255 - mean_absolute_error: 0.2255 - accuracy: 0.9679\n",
      "Epoch 78/100\n",
      "904/904 [==============================] - 0s 87us/step - loss: 0.2463 - mean_absolute_error: 0.2463 - accuracy: 0.9513\n",
      "Epoch 79/100\n",
      "904/904 [==============================] - 0s 60us/step - loss: 0.2359 - mean_absolute_error: 0.2359 - accuracy: 0.9635\n",
      "Epoch 80/100\n",
      "904/904 [==============================] - 0s 48us/step - loss: 0.2412 - mean_absolute_error: 0.2412 - accuracy: 0.9591\n",
      "Epoch 81/100\n",
      "904/904 [==============================] - 0s 48us/step - loss: 0.2434 - mean_absolute_error: 0.2434 - accuracy: 0.9535\n",
      "Epoch 82/100\n",
      "904/904 [==============================] - 0s 55us/step - loss: 0.2271 - mean_absolute_error: 0.2271 - accuracy: 0.9513\n",
      "Epoch 83/100\n",
      "904/904 [==============================] - 0s 91us/step - loss: 0.2229 - mean_absolute_error: 0.2229 - accuracy: 0.9679\n",
      "Epoch 84/100\n",
      "904/904 [==============================] - 0s 140us/step - loss: 0.2447 - mean_absolute_error: 0.2447 - accuracy: 0.9569\n",
      "Epoch 85/100\n",
      "904/904 [==============================] - 0s 101us/step - loss: 0.2554 - mean_absolute_error: 0.2554 - accuracy: 0.9558\n",
      "Epoch 86/100\n",
      "904/904 [==============================] - 0s 137us/step - loss: 0.2352 - mean_absolute_error: 0.2352 - accuracy: 0.9635\n",
      "Epoch 87/100\n",
      "904/904 [==============================] - 0s 71us/step - loss: 0.2249 - mean_absolute_error: 0.2249 - accuracy: 0.9558\n",
      "Epoch 88/100\n",
      "904/904 [==============================] - 0s 52us/step - loss: 0.2131 - mean_absolute_error: 0.2131 - accuracy: 0.9580\n",
      "Epoch 89/100\n",
      "904/904 [==============================] - 0s 49us/step - loss: 0.2357 - mean_absolute_error: 0.2357 - accuracy: 0.9569\n",
      "Epoch 90/100\n",
      "904/904 [==============================] - 0s 89us/step - loss: 0.2411 - mean_absolute_error: 0.2411 - accuracy: 0.9546\n",
      "Epoch 91/100\n",
      "904/904 [==============================] - 0s 116us/step - loss: 0.2452 - mean_absolute_error: 0.2452 - accuracy: 0.9591\n",
      "Epoch 92/100\n",
      "904/904 [==============================] - 0s 57us/step - loss: 0.2572 - mean_absolute_error: 0.2572 - accuracy: 0.9558\n",
      "Epoch 93/100\n",
      "904/904 [==============================] - 0s 51us/step - loss: 0.2490 - mean_absolute_error: 0.2490 - accuracy: 0.9580\n",
      "Epoch 94/100\n",
      "904/904 [==============================] - 0s 49us/step - loss: 0.2361 - mean_absolute_error: 0.2361 - accuracy: 0.9591\n",
      "Epoch 95/100\n",
      "904/904 [==============================] - 0s 51us/step - loss: 0.2541 - mean_absolute_error: 0.2541 - accuracy: 0.9469\n",
      "Epoch 96/100\n",
      "904/904 [==============================] - 0s 55us/step - loss: 0.2563 - mean_absolute_error: 0.2563 - accuracy: 0.9580\n",
      "Epoch 97/100\n",
      "904/904 [==============================] - 0s 54us/step - loss: 0.2359 - mean_absolute_error: 0.2359 - accuracy: 0.9624\n",
      "Epoch 98/100\n",
      "904/904 [==============================] - 0s 50us/step - loss: 0.2243 - mean_absolute_error: 0.2243 - accuracy: 0.9635\n",
      "Epoch 99/100\n",
      "904/904 [==============================] - 0s 49us/step - loss: 0.2091 - mean_absolute_error: 0.2091 - accuracy: 0.9502\n",
      "Epoch 100/100\n",
      "904/904 [==============================] - 0s 47us/step - loss: 0.2211 - mean_absolute_error: 0.2211 - accuracy: 0.9624\n"
     ]
    },
    {
     "data": {
      "text/plain": [
       "<keras.callbacks.callbacks.History at 0x7f996681c1d0>"
      ]
     },
     "execution_count": 38,
     "metadata": {},
     "output_type": "execute_result"
    }
   ],
   "source": [
    "#-- Train model (100 epochs, with batch sizes of 30)\n",
    "model.fit(x_train.reshape(x_train.shape[0],x_train.shape[1]*x_train.shape[2]),\\\n",
    "          y_train, epochs=100, batch_size=30)"
   ]
  },
  {
   "cell_type": "code",
   "execution_count": 44,
   "metadata": {},
   "outputs": [
    {
     "name": "stdout",
     "output_type": "stream",
     "text": [
      "100/100 [==============================] - 0s 34us/step\n"
     ]
    },
    {
     "data": {
      "text/plain": [
       "[0.2221796530485153, 0.22217963635921478, 0.9599999785423279]"
      ]
     },
     "execution_count": 44,
     "metadata": {},
     "output_type": "execute_result"
    }
   ],
   "source": [
    "#-- evaluate on test data\n",
    "model.evaluate(x=x_test.reshape(x_test.shape[0],x_test.shape[1]*x_test.shape[2]), y=y_test, verbose=1)"
   ]
  },
  {
   "cell_type": "markdown",
   "metadata": {},
   "source": [
    "We see that the network is able to recover the regression coefficients with an accuracy of $\\sim96\\%$ for the test data!\n",
    "\n",
    "Furthermore, you can actually get the predicted coefficients using the `predict` function:"
   ]
  },
  {
   "cell_type": "code",
   "execution_count": 46,
   "metadata": {},
   "outputs": [],
   "source": [
    "coefs = model.predict(x=x_test.reshape(x_test.shape[0],x_test.shape[1]*x_test.shape[2]))"
   ]
  },
  {
   "cell_type": "code",
   "execution_count": 50,
   "metadata": {},
   "outputs": [
    {
     "name": "stdout",
     "output_type": "stream",
     "text": [
      "Tile 0 - True Coeffs: 2.70,-0.67 \t Pred Coeffs: 2.58,-0.64\n",
      "Tile 1 - True Coeffs: -3.95,3.09 \t Pred Coeffs: -2.91,3.09\n",
      "Tile 2 - True Coeffs: 0.29,2.15 \t Pred Coeffs: -0.08,2.37\n",
      "Tile 3 - True Coeffs: -1.73,-0.01 \t Pred Coeffs: -1.79,0.00\n",
      "Tile 4 - True Coeffs: 3.79,0.50 \t Pred Coeffs: 3.64,0.58\n"
     ]
    }
   ],
   "source": [
    "#-- As an example, print the recovered vs the true coefficients for the first 5 tiles\n",
    "for i in range(5):\n",
    "    print('Tile {0} - True Coeffs: {1:.2f},{2:.2f} \\t Pred Coeffs: {3:.2f},{4:.2f}'\\\n",
    "          .format(i,y_test[i,0],y_test[i,1],coefs[i,0],coefs[i,1]))"
   ]
  },
  {
   "cell_type": "markdown",
   "metadata": {},
   "source": [
    "---\n",
    "Convolutional Neural Networks\n",
    "---\n",
    "A class of neural networks that is extremely useful in remote-sensing applications is the Convolutional Neural Network (CNN). CNNs use a set of kernels that convolve over input matrices (hence the name). \n",
    "![CNN animation from the Stanford Deep Learning Tutorial](http://ufldl.stanford.edu/tutorial/images/Convolution_schematic.gif)\n",
    "<sub>Animation from the Stanford Deep Learning Tutorial [Link](http://ufldl.stanford.edu/tutorial/)</sub>\n",
    "\n",
    "You can image this as a set small matrices (filters) sliding over a larger matrix (input) to detect certain features.\n",
    "\n",
    "![CNN schematic from Colah's blog](https://colah.github.io/posts/2014-07-Understanding-Convolutions/img/Conv-9-Conv2-XY.png)\n",
    "<sub>Schematic from Colah's blog - [Understanding Convolutions](https://colah.github.io/posts/2014-07-Understanding-Convolutions/)</sub>\n",
    "\n",
    "A kernel is convolved over the image to extract features at increasingly abstract levels. Kernel weights (W, b) updated through training to learn desired features.\n",
    "\n",
    "$$\n",
    "\\begin{aligned}\n",
    " y_0 = \\sigma(W_0x_0 + W_1x_1 - b)\\\\\n",
    " y_1 = \\sigma(W_0x_1 + W_1x_2 - b)\n",
    "\\end{aligned}\n",
    "$$\n",
    "\n",
    "Note that the weights and bias are a property of the kernel, and the input x changes as it convolves over the image.\n",
    "\n",
    "Implemeting convolutional layers in `keras` is very easy. There are different types of convolutions that are beyond the scope of this tutorial, but here we will just focus on a simple 2D convolution that can be implemented with the `conv2D()` function:"
   ]
  },
  {
   "cell_type": "code",
   "execution_count": 9,
   "metadata": {},
   "outputs": [],
   "source": [
    "import keras.layers as kl"
   ]
  },
  {
   "cell_type": "code",
   "execution_count": 12,
   "metadata": {},
   "outputs": [
    {
     "data": {
      "text/plain": [
       "\u001b[0;31mInit signature:\u001b[0m\n",
       "\u001b[0mkl\u001b[0m\u001b[0;34m.\u001b[0m\u001b[0mConv2D\u001b[0m\u001b[0;34m(\u001b[0m\u001b[0;34m\u001b[0m\n",
       "\u001b[0;34m\u001b[0m    \u001b[0mfilters\u001b[0m\u001b[0;34m,\u001b[0m\u001b[0;34m\u001b[0m\n",
       "\u001b[0;34m\u001b[0m    \u001b[0mkernel_size\u001b[0m\u001b[0;34m,\u001b[0m\u001b[0;34m\u001b[0m\n",
       "\u001b[0;34m\u001b[0m    \u001b[0mstrides\u001b[0m\u001b[0;34m=\u001b[0m\u001b[0;34m(\u001b[0m\u001b[0;36m1\u001b[0m\u001b[0;34m,\u001b[0m \u001b[0;36m1\u001b[0m\u001b[0;34m)\u001b[0m\u001b[0;34m,\u001b[0m\u001b[0;34m\u001b[0m\n",
       "\u001b[0;34m\u001b[0m    \u001b[0mpadding\u001b[0m\u001b[0;34m=\u001b[0m\u001b[0;34m'valid'\u001b[0m\u001b[0;34m,\u001b[0m\u001b[0;34m\u001b[0m\n",
       "\u001b[0;34m\u001b[0m    \u001b[0mdata_format\u001b[0m\u001b[0;34m=\u001b[0m\u001b[0;32mNone\u001b[0m\u001b[0;34m,\u001b[0m\u001b[0;34m\u001b[0m\n",
       "\u001b[0;34m\u001b[0m    \u001b[0mdilation_rate\u001b[0m\u001b[0;34m=\u001b[0m\u001b[0;34m(\u001b[0m\u001b[0;36m1\u001b[0m\u001b[0;34m,\u001b[0m \u001b[0;36m1\u001b[0m\u001b[0;34m)\u001b[0m\u001b[0;34m,\u001b[0m\u001b[0;34m\u001b[0m\n",
       "\u001b[0;34m\u001b[0m    \u001b[0mactivation\u001b[0m\u001b[0;34m=\u001b[0m\u001b[0;32mNone\u001b[0m\u001b[0;34m,\u001b[0m\u001b[0;34m\u001b[0m\n",
       "\u001b[0;34m\u001b[0m    \u001b[0muse_bias\u001b[0m\u001b[0;34m=\u001b[0m\u001b[0;32mTrue\u001b[0m\u001b[0;34m,\u001b[0m\u001b[0;34m\u001b[0m\n",
       "\u001b[0;34m\u001b[0m    \u001b[0mkernel_initializer\u001b[0m\u001b[0;34m=\u001b[0m\u001b[0;34m'glorot_uniform'\u001b[0m\u001b[0;34m,\u001b[0m\u001b[0;34m\u001b[0m\n",
       "\u001b[0;34m\u001b[0m    \u001b[0mbias_initializer\u001b[0m\u001b[0;34m=\u001b[0m\u001b[0;34m'zeros'\u001b[0m\u001b[0;34m,\u001b[0m\u001b[0;34m\u001b[0m\n",
       "\u001b[0;34m\u001b[0m    \u001b[0mkernel_regularizer\u001b[0m\u001b[0;34m=\u001b[0m\u001b[0;32mNone\u001b[0m\u001b[0;34m,\u001b[0m\u001b[0;34m\u001b[0m\n",
       "\u001b[0;34m\u001b[0m    \u001b[0mbias_regularizer\u001b[0m\u001b[0;34m=\u001b[0m\u001b[0;32mNone\u001b[0m\u001b[0;34m,\u001b[0m\u001b[0;34m\u001b[0m\n",
       "\u001b[0;34m\u001b[0m    \u001b[0mactivity_regularizer\u001b[0m\u001b[0;34m=\u001b[0m\u001b[0;32mNone\u001b[0m\u001b[0;34m,\u001b[0m\u001b[0;34m\u001b[0m\n",
       "\u001b[0;34m\u001b[0m    \u001b[0mkernel_constraint\u001b[0m\u001b[0;34m=\u001b[0m\u001b[0;32mNone\u001b[0m\u001b[0;34m,\u001b[0m\u001b[0;34m\u001b[0m\n",
       "\u001b[0;34m\u001b[0m    \u001b[0mbias_constraint\u001b[0m\u001b[0;34m=\u001b[0m\u001b[0;32mNone\u001b[0m\u001b[0;34m,\u001b[0m\u001b[0;34m\u001b[0m\n",
       "\u001b[0;34m\u001b[0m    \u001b[0;34m**\u001b[0m\u001b[0mkwargs\u001b[0m\u001b[0;34m,\u001b[0m\u001b[0;34m\u001b[0m\n",
       "\u001b[0;34m\u001b[0m\u001b[0;34m)\u001b[0m\u001b[0;34m\u001b[0m\u001b[0;34m\u001b[0m\u001b[0m\n",
       "\u001b[0;31mDocstring:\u001b[0m     \n",
       "2D convolution layer (e.g. spatial convolution over images).\n",
       "\n",
       "This layer creates a convolution kernel that is convolved\n",
       "with the layer input to produce a tensor of\n",
       "outputs. If `use_bias` is True,\n",
       "a bias vector is created and added to the outputs. Finally, if\n",
       "`activation` is not `None`, it is applied to the outputs as well.\n",
       "\n",
       "When using this layer as the first layer in a model,\n",
       "provide the keyword argument `input_shape`\n",
       "(tuple of integers, does not include the batch axis),\n",
       "e.g. `input_shape=(128, 128, 3)` for 128x128 RGB pictures\n",
       "in `data_format=\"channels_last\"`.\n",
       "\n",
       "# Arguments\n",
       "    filters: Integer, the dimensionality of the output space\n",
       "        (i.e. the number of output filters in the convolution).\n",
       "    kernel_size: An integer or tuple/list of 2 integers, specifying the\n",
       "        height and width of the 2D convolution window.\n",
       "        Can be a single integer to specify the same value for\n",
       "        all spatial dimensions.\n",
       "    strides: An integer or tuple/list of 2 integers,\n",
       "        specifying the strides of the convolution\n",
       "        along the height and width.\n",
       "        Can be a single integer to specify the same value for\n",
       "        all spatial dimensions.\n",
       "        Specifying any stride value != 1 is incompatible with specifying\n",
       "        any `dilation_rate` value != 1.\n",
       "    padding: one of `\"valid\"` or `\"same\"` (case-insensitive).\n",
       "        Note that `\"same\"` is slightly inconsistent across backends with\n",
       "        `strides` != 1, as described\n",
       "        [here](https://github.com/keras-team/keras/pull/9473#issuecomment-372166860)\n",
       "    data_format: A string,\n",
       "        one of `\"channels_last\"` or `\"channels_first\"`.\n",
       "        The ordering of the dimensions in the inputs.\n",
       "        `\"channels_last\"` corresponds to inputs with shape\n",
       "        `(batch, height, width, channels)` while `\"channels_first\"`\n",
       "        corresponds to inputs with shape\n",
       "        `(batch, channels, height, width)`.\n",
       "        It defaults to the `image_data_format` value found in your\n",
       "        Keras config file at `~/.keras/keras.json`.\n",
       "        If you never set it, then it will be \"channels_last\".\n",
       "    dilation_rate: an integer or tuple/list of 2 integers, specifying\n",
       "        the dilation rate to use for dilated convolution.\n",
       "        Can be a single integer to specify the same value for\n",
       "        all spatial dimensions.\n",
       "        Currently, specifying any `dilation_rate` value != 1 is\n",
       "        incompatible with specifying any stride value != 1.\n",
       "    activation: Activation function to use\n",
       "        (see [activations](../activations.md)).\n",
       "        If you don't specify anything, no activation is applied\n",
       "        (ie. \"linear\" activation: `a(x) = x`).\n",
       "    use_bias: Boolean, whether the layer uses a bias vector.\n",
       "    kernel_initializer: Initializer for the `kernel` weights matrix\n",
       "        (see [initializers](../initializers.md)).\n",
       "    bias_initializer: Initializer for the bias vector\n",
       "        (see [initializers](../initializers.md)).\n",
       "    kernel_regularizer: Regularizer function applied to\n",
       "        the `kernel` weights matrix\n",
       "        (see [regularizer](../regularizers.md)).\n",
       "    bias_regularizer: Regularizer function applied to the bias vector\n",
       "        (see [regularizer](../regularizers.md)).\n",
       "    activity_regularizer: Regularizer function applied to\n",
       "        the output of the layer (its \"activation\").\n",
       "        (see [regularizer](../regularizers.md)).\n",
       "    kernel_constraint: Constraint function applied to the kernel matrix\n",
       "        (see [constraints](../constraints.md)).\n",
       "    bias_constraint: Constraint function applied to the bias vector\n",
       "        (see [constraints](../constraints.md)).\n",
       "\n",
       "# Input shape\n",
       "    4D tensor with shape:\n",
       "    `(batch, channels, rows, cols)`\n",
       "    if `data_format` is `\"channels_first\"`\n",
       "    or 4D tensor with shape:\n",
       "    `(batch, rows, cols, channels)`\n",
       "    if `data_format` is `\"channels_last\"`.\n",
       "\n",
       "# Output shape\n",
       "    4D tensor with shape:\n",
       "    `(batch, filters, new_rows, new_cols)`\n",
       "    if `data_format` is `\"channels_first\"`\n",
       "    or 4D tensor with shape:\n",
       "    `(batch, new_rows, new_cols, filters)`\n",
       "    if `data_format` is `\"channels_last\"`.\n",
       "    `rows` and `cols` values might have changed due to padding.\n",
       "\u001b[0;31mFile:\u001b[0m           /srv/conda/envs/ML/lib/python3.7/site-packages/keras/layers/convolutional.py\n",
       "\u001b[0;31mType:\u001b[0m           type\n",
       "\u001b[0;31mSubclasses:\u001b[0m     Conv2DTranspose, DepthwiseConv2D\n"
      ]
     },
     "metadata": {},
     "output_type": "display_data"
    }
   ],
   "source": [
    "kl.Conv2D?"
   ]
  },
  {
   "cell_type": "markdown",
   "metadata": {},
   "source": [
    "The first argument, `filters` refers to the number of filters that will be convolved over the input image. The second argument, `kernel_size` refers to the size dimensions of each filter. `stide` and `padding` determine the spacing of the convolutional kernel as it moves across the input, and padding determines the output of the layer. `same` padding forces the output to be the same dimensions as the input by adding zeros to the boundaries, while `valid` allows the layer to naturally reduce in size due to convolution (as shown in the animation above). For example, if a convolutional layer is given a $10\\times10\\times1$ input with 32 filters with kernel size $3\\times3$, stride $1\\times1$, and `valid` padding, the output will have dimensions $8\\times8\\times32$. Check this for yourself. What if we change the input to $12\\times12\\times3$ with stride $2\\times2$?\n",
    "\n",
    "*Hint:* I recommend reading through [this document](https://towardsdatascience.com/a-comprehensive-introduction-to-different-types-of-convolutions-in-deep-learning-669281e58215) to better understand convolutions.\n",
    "\n",
    "Before we go over a real-world example, we also need to explore the concept of *pooling* layers. \n",
    "\n",
    "Pooling refers to combining nearby grid cells (through either averaging, picking the maximum value, or other methods). This operation provides additional dimensionality reduction, as well as locational invariance, since the exact location of the desired features in the group of cells being combined does not matter. The most common type of pooling is max-pooling, since we care about the highest value in a group referring to the desired features. This can be accomplished by the MaxPooling2D() function:"
   ]
  },
  {
   "cell_type": "code",
   "execution_count": 13,
   "metadata": {},
   "outputs": [
    {
     "data": {
      "text/plain": [
       "\u001b[0;31mInit signature:\u001b[0m\n",
       "\u001b[0mkl\u001b[0m\u001b[0;34m.\u001b[0m\u001b[0mMaxPooling2D\u001b[0m\u001b[0;34m(\u001b[0m\u001b[0;34m\u001b[0m\n",
       "\u001b[0;34m\u001b[0m    \u001b[0mpool_size\u001b[0m\u001b[0;34m=\u001b[0m\u001b[0;34m(\u001b[0m\u001b[0;36m2\u001b[0m\u001b[0;34m,\u001b[0m \u001b[0;36m2\u001b[0m\u001b[0;34m)\u001b[0m\u001b[0;34m,\u001b[0m\u001b[0;34m\u001b[0m\n",
       "\u001b[0;34m\u001b[0m    \u001b[0mstrides\u001b[0m\u001b[0;34m=\u001b[0m\u001b[0;32mNone\u001b[0m\u001b[0;34m,\u001b[0m\u001b[0;34m\u001b[0m\n",
       "\u001b[0;34m\u001b[0m    \u001b[0mpadding\u001b[0m\u001b[0;34m=\u001b[0m\u001b[0;34m'valid'\u001b[0m\u001b[0;34m,\u001b[0m\u001b[0;34m\u001b[0m\n",
       "\u001b[0;34m\u001b[0m    \u001b[0mdata_format\u001b[0m\u001b[0;34m=\u001b[0m\u001b[0;32mNone\u001b[0m\u001b[0;34m,\u001b[0m\u001b[0;34m\u001b[0m\n",
       "\u001b[0;34m\u001b[0m    \u001b[0;34m**\u001b[0m\u001b[0mkwargs\u001b[0m\u001b[0;34m,\u001b[0m\u001b[0;34m\u001b[0m\n",
       "\u001b[0;34m\u001b[0m\u001b[0;34m)\u001b[0m\u001b[0;34m\u001b[0m\u001b[0;34m\u001b[0m\u001b[0m\n",
       "\u001b[0;31mDocstring:\u001b[0m     \n",
       "Max pooling operation for spatial data.\n",
       "\n",
       "# Arguments\n",
       "    pool_size: integer or tuple of 2 integers,\n",
       "        factors by which to downscale (vertical, horizontal).\n",
       "        (2, 2) will halve the input in both spatial dimension.\n",
       "        If only one integer is specified, the same window length\n",
       "        will be used for both dimensions.\n",
       "    strides: Integer, tuple of 2 integers, or None.\n",
       "        Strides values.\n",
       "        If None, it will default to `pool_size`.\n",
       "    padding: One of `\"valid\"` or `\"same\"` (case-insensitive).\n",
       "    data_format: A string,\n",
       "        one of `channels_last` (default) or `channels_first`.\n",
       "        The ordering of the dimensions in the inputs.\n",
       "        `channels_last` corresponds to inputs with shape\n",
       "        `(batch, height, width, channels)` while `channels_first`\n",
       "        corresponds to inputs with shape\n",
       "        `(batch, channels, height, width)`.\n",
       "        It defaults to the `image_data_format` value found in your\n",
       "        Keras config file at `~/.keras/keras.json`.\n",
       "        If you never set it, then it will be \"channels_last\".\n",
       "\n",
       "# Input shape\n",
       "    - If `data_format='channels_last'`:\n",
       "        4D tensor with shape:\n",
       "        `(batch_size, rows, cols, channels)`\n",
       "    - If `data_format='channels_first'`:\n",
       "        4D tensor with shape:\n",
       "        `(batch_size, channels, rows, cols)`\n",
       "\n",
       "# Output shape\n",
       "    - If `data_format='channels_last'`:\n",
       "        4D tensor with shape:\n",
       "        `(batch_size, pooled_rows, pooled_cols, channels)`\n",
       "    - If `data_format='channels_first'`:\n",
       "        4D tensor with shape:\n",
       "        `(batch_size, channels, pooled_rows, pooled_cols)`\n",
       "\u001b[0;31mFile:\u001b[0m           /srv/conda/envs/ML/lib/python3.7/site-packages/keras/layers/pooling.py\n",
       "\u001b[0;31mType:\u001b[0m           type\n",
       "\u001b[0;31mSubclasses:\u001b[0m     \n"
      ]
     },
     "metadata": {},
     "output_type": "display_data"
    }
   ],
   "source": [
    "kl.MaxPooling2D?"
   ]
  },
  {
   "cell_type": "markdown",
   "metadata": {},
   "source": [
    "The size of the pooling matrix is given by the `pool_size` argument. The `strides` and `padding` options are the same as the convolution function.\n",
    "\n",
    "Lastly, we also briefly discuss regularization. We do not want to rely on a few connections in the network to perform the desired task, which does not easily generalize to a variety of inputs. In order to increase robustness, we introduce a regularization method called *Dropout* to randomly eliminate a subset of neurons in each iteration in training. This can be called by the Keras `Dropout()` function:"
   ]
  },
  {
   "cell_type": "code",
   "execution_count": 14,
   "metadata": {},
   "outputs": [
    {
     "data": {
      "text/plain": [
       "\u001b[0;31mInit signature:\u001b[0m \u001b[0mkl\u001b[0m\u001b[0;34m.\u001b[0m\u001b[0mDropout\u001b[0m\u001b[0;34m(\u001b[0m\u001b[0mrate\u001b[0m\u001b[0;34m,\u001b[0m \u001b[0mnoise_shape\u001b[0m\u001b[0;34m=\u001b[0m\u001b[0;32mNone\u001b[0m\u001b[0;34m,\u001b[0m \u001b[0mseed\u001b[0m\u001b[0;34m=\u001b[0m\u001b[0;32mNone\u001b[0m\u001b[0;34m,\u001b[0m \u001b[0;34m**\u001b[0m\u001b[0mkwargs\u001b[0m\u001b[0;34m)\u001b[0m\u001b[0;34m\u001b[0m\u001b[0;34m\u001b[0m\u001b[0m\n",
       "\u001b[0;31mDocstring:\u001b[0m     \n",
       "Applies Dropout to the input.\n",
       "\n",
       "Dropout consists in randomly setting\n",
       "a fraction `rate` of input units to 0 at each update during training time,\n",
       "which helps prevent overfitting.\n",
       "\n",
       "# Arguments\n",
       "    rate: float between 0 and 1. Fraction of the input units to drop.\n",
       "    noise_shape: 1D integer tensor representing the shape of the\n",
       "        binary dropout mask that will be multiplied with the input.\n",
       "        For instance, if your inputs have shape\n",
       "        `(batch_size, timesteps, features)` and\n",
       "        you want the dropout mask to be the same for all timesteps,\n",
       "        you can use `noise_shape=(batch_size, 1, features)`.\n",
       "    seed: A Python integer to use as random seed.\n",
       "\n",
       "# References\n",
       "    - [Dropout: A Simple Way to Prevent Neural Networks from Overfitting](\n",
       "       http://www.jmlr.org/papers/volume15/srivastava14a/srivastava14a.pdf)\n",
       "\u001b[0;31mFile:\u001b[0m           /srv/conda/envs/ML/lib/python3.7/site-packages/keras/layers/core.py\n",
       "\u001b[0;31mType:\u001b[0m           type\n",
       "\u001b[0;31mSubclasses:\u001b[0m     SpatialDropout1D, SpatialDropout2D, SpatialDropout3D\n"
      ]
     },
     "metadata": {},
     "output_type": "display_data"
    }
   ],
   "source": [
    "kl.Dropout?"
   ]
  },
  {
   "cell_type": "markdown",
   "metadata": {},
   "source": [
    "The first argument, `rate` is the ratio of dropped neurons, which should be between 0 and 1."
   ]
  },
  {
   "cell_type": "markdown",
   "metadata": {},
   "source": [
    "Now we revisit the MNIST problem from above, but using convolutional nets. \n",
    "\n",
    "Note that `conv2D` also requires the number of input channels. In the case of our gray-scale images here, there is only one input channel. We reshape our inputs accordingly:"
   ]
  },
  {
   "cell_type": "code",
   "execution_count": 15,
   "metadata": {},
   "outputs": [
    {
     "data": {
      "text/plain": [
       "(60000, 28, 28, 1)"
      ]
     },
     "execution_count": 15,
     "metadata": {},
     "output_type": "execute_result"
    }
   ],
   "source": [
    "#-- add new axis for channels. There is only 1 channel in our case\n",
    "#-- We also convert the input images from 0-255 integer pixels to 0-1 floats\n",
    "x_train = x_train[...,np.newaxis].astype('float')/255\n",
    "x_test = x_test[...,np.newaxis].astype('float')/255\n",
    "#-- check new shape\n",
    "x_train.shape"
   ]
  },
  {
   "cell_type": "code",
   "execution_count": 16,
   "metadata": {},
   "outputs": [],
   "source": [
    "#-- as before, we want to use teh one-hot vectors here. We have already one this above,\n",
    "#-- but you can run this cell again if you do not have it in the memory\n",
    "#-- Turn the trainign labels (indicating which number each image is), into one-hot encoding\n",
    "#-- e.g. 3 --> [0,0,0,1,0,0,0,0,0,0]\n",
    "onehot_train = keras.utils.to_categorical(y_train, num_classes=10)\n",
    "onehot_test = keras.utils.to_categorical(y_test, num_classes=10)"
   ]
  },
  {
   "cell_type": "markdown",
   "metadata": {},
   "source": [
    "Now that the setup is complete, we create the convolutional net:"
   ]
  },
  {
   "cell_type": "code",
   "execution_count": 17,
   "metadata": {},
   "outputs": [],
   "source": [
    "model = keras.Sequential()\n",
    "#-- add a 2D convolution with 32 output channels and kernel size (3x3)\n",
    "#-- We yse the ReLU activation function\n",
    "#-- input shape refers to the shape of each image being passed in, so we \n",
    "#-- ignore the first dimension referring to the total number of images\n",
    "model.add(kl.Conv2D(32, kernel_size=(3, 3),\n",
    "                 activation='relu',\n",
    "                 input_shape=(x_train.shape[1],x_train.shape[2],x_train.shape[3])))\n",
    "#-- Now we add a second layer with 64 output channels\n",
    "model.add(kl.Conv2D(64, (3, 3), activation='relu'))\n",
    "#-- Now we add a max-pooling layer\n",
    "model.add(kl.MaxPooling2D(pool_size=(2, 2)))\n",
    "#-- We now add regularization with Dropout ratio 2\n",
    "model.add(kl.Dropout(0.2))"
   ]
  },
  {
   "cell_type": "markdown",
   "metadata": {},
   "source": [
    "Note the default padding of Conv2D is `valid`. So the first layer will reduce the output from $28\\times28$ to $26\\times26$, and the second layer will lower to $24\\times24$. The max-pooling layer will get the maximum of every $2\\times2$ group of cells. Therefore, the pooling layer will further reduce the dimensions to $12\\times12$. In order to classify these images, we need to turn them into a flattened array. At the end, every element of this flattened array needs to be connected to every output cell such that all the information can be used to classify the given image. All classification networks have this final *Dense* layer, which simply means all the elements of the previous layer are simultaneously connected to each of the final units (which is not the case for convolutional layers). The flattened and dense layers are added below:"
   ]
  },
  {
   "cell_type": "code",
   "execution_count": 18,
   "metadata": {},
   "outputs": [],
   "source": [
    "#-- flatten the last convolutional layer to a 1-dimensional array\n",
    "model.add(kl.Flatten())\n",
    "#-- Add a dense layer with the same number of output cells as the number of classes, such that each\n",
    "#-- cell represents the probability of belonging to the corresponding class.\n",
    "#-- The activation function is \"softmax\"\n",
    "model.add(kl.Dense(10, activation='softmax'))"
   ]
  },
  {
   "cell_type": "markdown",
   "metadata": {},
   "source": [
    "Note that the activation function for the Dense layer is Softmax. Softmax is a normalized exponential function that returns normalized probabilities using\n",
    "\n",
    "$$\n",
    "\\begin{aligned}\n",
    " \\sigma(z_i) = \\frac{e^{z_i}}{\\sum_{j}e^{z_j}}\n",
    "\\end{aligned}\n",
    "$$\n",
    "\n",
    "where $z_i$ is given by $\\sum_j w_{ji}x_j + b_i$.\n",
    "\n",
    "Thus, we can interpret the results of the neural network as the probability for each of the 10 classes given by each of the 10 output units.\n",
    "\n",
    "---\n",
    "Next, we need to compile the model with the desired loss function used in training. Loss functions are beyond the scope of this short tutorial, but we use the *categorical crossentropy* loss as before:"
   ]
  },
  {
   "cell_type": "code",
   "execution_count": 19,
   "metadata": {},
   "outputs": [],
   "source": [
    "model.compile(optimizer='adam',     # optimization algorithm used (other examples include scholastic gradient descent, etc)\n",
    "              loss='categorical_crossentropy',\n",
    "              metrics=['accuracy']) # quantity to be minimized"
   ]
  },
  {
   "cell_type": "markdown",
   "metadata": {},
   "source": [
    "We can visualize the model so far using the `plot_model()` function. Make sure you have `pydot` installed for the model to be plotted."
   ]
  },
  {
   "cell_type": "code",
   "execution_count": 20,
   "metadata": {},
   "outputs": [],
   "source": [
    "from keras.utils import plot_model"
   ]
  },
  {
   "cell_type": "code",
   "execution_count": 21,
   "metadata": {},
   "outputs": [
    {
     "data": {
      "image/png": "[encoded data removed]",
      "text/plain": [
       "<IPython.core.display.Image object>"
      ]
     },
     "execution_count": 21,
     "metadata": {},
     "output_type": "execute_result"
    }
   ],
   "source": [
    "plot_model(model,show_shapes=True)"
   ]
  },
  {
   "cell_type": "markdown",
   "metadata": {},
   "source": [
    "Now we can train the model. You will notice that training convolutional nets is computationally more expensive ($\\sim80 s$ per epoch), but it can perform much better and in fact converges very fast. In just 5 epochs we can get better performance than the previous model on the same data above.  "
   ]
  },
  {
   "cell_type": "code",
   "execution_count": 22,
   "metadata": {},
   "outputs": [
    {
     "name": "stdout",
     "output_type": "stream",
     "text": [
      "Epoch 1/5\n",
      "60000/60000 [==============================] - 200s 3ms/step - loss: 0.1383 - accuracy: 0.9578\n",
      "Epoch 2/5\n",
      "60000/60000 [==============================] - 218s 4ms/step - loss: 0.0521 - accuracy: 0.9841\n",
      "Epoch 3/5\n",
      "60000/60000 [==============================] - 203s 3ms/step - loss: 0.0383 - accuracy: 0.9880\n",
      "Epoch 4/5\n",
      "60000/60000 [==============================] - 204s 3ms/step - loss: 0.0290 - accuracy: 0.9907\n",
      "Epoch 5/5\n",
      "60000/60000 [==============================] - 204s 3ms/step - loss: 0.0233 - accuracy: 0.9929\n"
     ]
    },
    {
     "data": {
      "text/plain": [
       "<keras.callbacks.callbacks.History at 0x7fc17a9cfe90>"
      ]
     },
     "execution_count": 22,
     "metadata": {},
     "output_type": "execute_result"
    }
   ],
   "source": [
    "model.fit(x_train, onehot_train, epochs=5, batch_size=32)"
   ]
  },
  {
   "cell_type": "markdown",
   "metadata": {},
   "source": [
    "Now that the model is trained, we can use the `evaluate` function to assess the performance."
   ]
  },
  {
   "cell_type": "code",
   "execution_count": 12,
   "metadata": {},
   "outputs": [
    {
     "name": "stdout",
     "output_type": "stream",
     "text": [
      "10000/10000 [==============================] - 2s 209us/step\n"
     ]
    },
    {
     "data": {
      "text/plain": [
       "[0.03896512659455184, 0.9879999756813049]"
      ]
     },
     "execution_count": 12,
     "metadata": {},
     "output_type": "execute_result"
    }
   ],
   "source": [
    "model.evaluate(x=x_test, y=onehot_test, verbose=1)"
   ]
  },
  {
   "cell_type": "markdown",
   "metadata": {},
   "source": [
    "We get an accuracy of $\\sim99\\%$!\n",
    "\n",
    "Note that we have to be careful with overfitting. We only trained the network for 5 epochs here, but excessive training will result in overfitting and reduction in the generalizability of the model. There are more formal steps you can take to avoid overfitting, but that is beyond the scope of this tutorial."
   ]
  }
 ],
 "metadata": {
  "kernelspec": {
   "display_name": "Python 3.7.4 64-bit ('base': conda)",
   "language": "python",
   "name": "python37464bitbasecondaeab7d041c0774890a74969d299d600af"
  },
  "language_info": {
   "codemirror_mode": {
    "name": "ipython",
    "version": 3
   },
   "file_extension": ".py",
   "mimetype": "text/x-python",
   "name": "python",
   "nbconvert_exporter": "python",
   "pygments_lexer": "ipython3",
   "version": "3.7.4"
  }
 },
 "nbformat": 4,
 "nbformat_minor": 4
}
